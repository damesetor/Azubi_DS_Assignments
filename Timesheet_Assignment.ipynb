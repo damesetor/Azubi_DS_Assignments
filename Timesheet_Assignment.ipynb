{
 "cells": [
  {
   "cell_type": "code",
   "execution_count": 6,
   "metadata": {},
   "outputs": [],
   "source": [
    "from datetime import date\n",
    "from datetime import datetime\n",
    "from datetime import time\n",
    "import csv\n",
    "from pathlib import Path"
   ]
  },
  {
   "cell_type": "markdown",
   "metadata": {},
   "source": [
    "The following code is to be executed at the start time of a particular task"
   ]
  },
  {
   "cell_type": "code",
   "execution_count": 7,
   "metadata": {},
   "outputs": [],
   "source": [
    "start_time = None #create global variable to store start time\n",
    "def clock_in():\n",
    "    global start_time #call global to keep value of start time after execution\n",
    "    start_time = datetime.now()\n",
    "clock_in()"
   ]
  },
  {
   "cell_type": "markdown",
   "metadata": {},
   "source": [
    "The following code is then executed at the END of the task to record the end time & write records to a timesheet csv"
   ]
  },
  {
   "cell_type": "code",
   "execution_count": 8,
   "metadata": {},
   "outputs": [],
   "source": [
    "def clock_out():\n",
    "    end_time = datetime.now()\n",
    "    global start_time\n",
    "    duration = (end_time - start_time).seconds/60/60\n",
    "    wage = duration*5\n",
    "    file_exists = Path(\"timesheet.csv\").is_file()\n",
    "    with open('timesheet.csv', 'a', newline='') as csvfile:\n",
    "        writer = csv.writer(csvfile)\n",
    "        if not file_exists: \n",
    "            writer.writerow(['start_time', 'end_time', 'duration_hrs', 'wage_$'])\n",
    "        writer.writerow([start_time, end_time, duration, wage])\n",
    "clock_out()"
   ]
  }
 ],
 "metadata": {
  "kernelspec": {
   "display_name": "Python 3",
   "language": "python",
   "name": "python3"
  },
  "language_info": {
   "codemirror_mode": {
    "name": "ipython",
    "version": 3
   },
   "file_extension": ".py",
   "mimetype": "text/x-python",
   "name": "python",
   "nbconvert_exporter": "python",
   "pygments_lexer": "ipython3",
   "version": "3.7.6"
  }
 },
 "nbformat": 4,
 "nbformat_minor": 4
}
